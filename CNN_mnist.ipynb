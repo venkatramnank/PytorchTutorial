{
  "cells": [
    {
      "cell_type": "code",
      "execution_count": 1,
      "metadata": {
        "id": "y1_FOFBkIQKw"
      },
      "outputs": [],
      "source": [
        "import numpy as np\n",
        "import torch\n",
        "import torch.nn as nn\n",
        "import torch.nn.functional as F\n",
        "from torch.utils.data import DataLoader, TensorDataset\n",
        "from sklearn.model_selection import train_test_split\n",
        "\n",
        "import matplotlib.pyplot as plt\n"
      ]
    },
    {
      "cell_type": "code",
      "execution_count": 2,
      "metadata": {
        "id": "s4CtxYq6IQKz"
      },
      "outputs": [],
      "source": [
        "data = np.loadtxt(open('/content/mnist_train.csv','rb'),delimiter=',')\n",
        "labels = data[:,0]\n",
        "data = data[:,1:]\n",
        "\n",
        "# Normalizing the data\n",
        "dataNorm = data / np.max(data)\n",
        "# Reshaping it to 2D\n",
        "dataNorm = dataNorm.reshape(dataNorm.shape[0],1,28,28) #grayscale x 28 x 28"
      ]
    },
    {
      "cell_type": "code",
      "execution_count": 3,
      "metadata": {
        "colab": {
          "base_uri": "https://localhost:8080/"
        },
        "id": "owtXrRHEIQK1",
        "outputId": "22482955-1462-4bc3-ad47-3c66d4e9da39"
      },
      "outputs": [
        {
          "output_type": "stream",
          "name": "stdout",
          "text": [
            "(60000, 1, 28, 28)\n"
          ]
        }
      ],
      "source": [
        "print(dataNorm.shape)"
      ]
    },
    {
      "cell_type": "code",
      "execution_count": 4,
      "metadata": {
        "id": "qEmq5vqUIQK3"
      },
      "outputs": [],
      "source": [
        "# Building the DataLoader\n",
        "dataT = torch.tensor(dataNorm).float()\n",
        "labelsT = torch.tensor(labels).long()\n",
        "\n",
        "train_data, test_data, train_labels, test_labels = train_test_split(dataT, labelsT, test_size = 0.40)\n",
        "\n",
        "train_data = TensorDataset(train_data, train_labels)\n",
        "test_data = TensorDataset(test_data, test_labels)\n",
        "\n",
        "batchsize = 32\n",
        "train_loader = DataLoader(train_data, batch_size = batchsize, shuffle = True, drop_last=True)\n",
        "test_loader = DataLoader(test_data, batch_size = test_data.tensors[0].shape[0])"
      ]
    },
    {
      "cell_type": "code",
      "execution_count": 5,
      "metadata": {
        "id": "nakENq9WIQK4"
      },
      "outputs": [],
      "source": [
        "def createMnistNet(printoggle=False):\n",
        "    class mnistNet(nn.Module):\n",
        "        def __init__(self,printtoggle) -> None:\n",
        "            super().__init__()\n",
        "\n",
        "            self.conv1 = nn.Conv2d(1, 10, kernel_size=5, stride = 1, padding = 1)\n",
        "\n",
        "            self.conv2 = nn.Conv2d(10,20, kernel_size=5, stride=1, padding=1)\n",
        "\n",
        "            expectSize = np.floor((5 + 2*0 - 1)/1) + 1 # fc1 layer has no padding or kernel\n",
        "            expectSize = 20*int(expectSize**2) # 20 kernels or feature maps and power 2 since we have height and width to be same\n",
        "\n",
        "            self.fc1 = nn.Linear(expectSize, 50)\n",
        "\n",
        "            self.out = nn.Linear(50, 10) # 10 classes\n",
        "\n",
        "            self.print = printtoggle\n",
        "\n",
        "        def forward(self, x):\n",
        "            print('Input shape : ',x.shape) if self.print else None\n",
        "\n",
        "            x = F.relu(F.max_pool2d(self.conv1(x), 2))\n",
        "            print('Conv1/maxpool shape : ',x.shape) if self.print else None\n",
        "\n",
        "            x = F.relu(F.max_pool2d(self.conv2(x), 2))\n",
        "            print('Conv2/maxpool shape : ',x.shape) if self.print else None\n",
        "\n",
        "            #reshape for linear layer\n",
        "            nUnits = x.shape.numel()/x.shape[0] # number of units in the previous maxpool layer\n",
        "            x = x.view(-1, int(nUnits))\n",
        "            if self.print : print('Vectorize : ',x.shape)\n",
        "\n",
        "            x = F.relu(self.fc1(x))\n",
        "            if self.print : print('fc1: ',x.shape)\n",
        "\n",
        "            x = self.out(x)\n",
        "            if self.print : print('Layer out : ',x.shape)\n",
        "\n",
        "            return x     \n",
        "    net = mnistNet(printoggle)\n",
        "    lossfun = nn.CrossEntropyLoss()\n",
        "    optimizer = torch.optim.Adam(net.parameters(), lr = 0.001)  \n",
        "\n",
        "    return net, lossfun, optimizer\n"
      ]
    },
    {
      "cell_type": "code",
      "execution_count": 6,
      "metadata": {
        "colab": {
          "base_uri": "https://localhost:8080/"
        },
        "id": "NtfNm7J3IQK6",
        "outputId": "39daccb3-021a-4f78-8322-682d44296329"
      },
      "outputs": [
        {
          "output_type": "stream",
          "name": "stdout",
          "text": [
            "Input shape :  torch.Size([32, 1, 28, 28])\n",
            "Conv1/maxpool shape :  torch.Size([32, 10, 13, 13])\n",
            "Conv2/maxpool shape :  torch.Size([32, 20, 5, 5])\n",
            "Vectorize :  torch.Size([32, 500])\n",
            "fc1:  torch.Size([32, 50])\n",
            "Layer out :  torch.Size([32, 10])\n",
            " \n",
            "torch.Size([32, 10])\n",
            "torch.Size([32])\n",
            " \n",
            "Loss:\n",
            "tensor(2.2874, grad_fn=<NllLossBackward0>)\n"
          ]
        }
      ],
      "source": [
        "net,lossfun,optimizer = createMnistNet(True)\n",
        "\n",
        "dataiter = iter(train_loader)\n",
        "X,y = next(dataiter)\n",
        "yhat = net(X)\n",
        "\n",
        "print(' ')\n",
        "print(yhat.shape)\n",
        "print(y.shape)\n",
        "\n",
        "loss = lossfun(yhat, y)\n",
        "print(' ')\n",
        "print('Loss:')\n",
        "print(loss)"
      ]
    },
    {
      "cell_type": "code",
      "execution_count": 7,
      "metadata": {
        "id": "MEuP85z4IQK7"
      },
      "outputs": [],
      "source": [
        "def trainer():\n",
        "\n",
        "    epochs =10\n",
        "\n",
        "    net,lossfun,optimizer = createMnistNet()\n",
        "\n",
        "    losses = torch.zeros(epochs)\n",
        "    trainAcc = []\n",
        "    testAcc = []\n",
        "\n",
        "    for epoch in range(epochs):\n",
        "\n",
        "        net.train()\n",
        "\n",
        "        batchAcc = []\n",
        "        batchLoss = []\n",
        "        for X,y in train_loader:\n",
        "            yHat = net(X)\n",
        "            loss = lossfun(yHat, y)\n",
        "\n",
        "            optimizer.zero_grad()\n",
        "            loss.backward()\n",
        "            optimizer.step()\n",
        "\n",
        "            batchLoss.append(loss.item())\n",
        "\n",
        "            matches = torch.argmax(yHat, axis =1) == y\n",
        "            matchesNumeric = matches.float()\n",
        "            accuracyPct = 100*torch.mean(matchesNumeric)\n",
        "            batchAcc.append(accuracyPct)\n",
        "\n",
        "        trainAcc.append(np.mean(batchAcc))\n",
        "        losses[epoch] = np.mean(batchLoss)\n",
        "\n",
        "        net.eval()\n",
        "        X,y = next(iter(test_loader))\n",
        "        with torch.no_grad():\n",
        "            yHat = net(X)\n",
        "\n",
        "        testAcc.append(100*torch.mean((torch.argmax(yHat, axis =1) == y).float()))\n",
        "\n",
        "    return trainAcc, testAcc, losses, net\n",
        "\n",
        "    \n",
        "\n",
        "\n",
        "\n"
      ]
    },
    {
      "cell_type": "code",
      "execution_count": 8,
      "metadata": {
        "id": "uoaTEpK_IQK9"
      },
      "outputs": [],
      "source": [
        "trainAcc, testAcc, losses, net = trainer()"
      ]
    },
    {
      "cell_type": "code",
      "execution_count": 9,
      "metadata": {
        "colab": {
          "base_uri": "https://localhost:8080/",
          "height": 336
        },
        "id": "3glsBjLTIQK-",
        "outputId": "61c82b6e-b9ec-4bc8-c852-05faea729d15"
      },
      "outputs": [
        {
          "output_type": "display_data",
          "data": {
            "text/plain": [
              "<Figure size 1152x360 with 2 Axes>"
            ],
            "image/png": "[encoded data removed]"
          },
          "metadata": {
            "needs_background": "light"
          }
        }
      ],
      "source": [
        "fig,ax = plt.subplots(1,2,figsize=(16,5))\n",
        "\n",
        "ax[0].plot(losses,'s-')\n",
        "ax[0].set_title('Model Loss')\n",
        "\n",
        "ax[1].plot(trainAcc,'s-', label='Train')\n",
        "ax[1].plot(testAcc,'s-', label='Test')\n",
        "ax[1].set_title('Model Acc')\n",
        "ax[1].legend()\n",
        "\n",
        "plt.show()"
      ]
    },
    {
      "cell_type": "code",
      "execution_count": 10,
      "metadata": {
        "colab": {
          "base_uri": "https://localhost:8080/"
        },
        "id": "3M_MW6zSIQK_",
        "outputId": "d87b678b-cfd7-46b1-f2c9-81de45e0c9ac"
      },
      "outputs": [
        {
          "output_type": "stream",
          "name": "stdout",
          "text": [
            "Final Accuracy :  tensor(98.5167)\n"
          ]
        }
      ],
      "source": [
        "print('Final Accuracy : ', testAcc[-1])"
      ]
    }
  ],
  "metadata": {
    "kernelspec": {
      "display_name": "Python 3.10.8 ('torch_env')",
      "language": "python",
      "name": "python3"
    },
    "language_info": {
      "codemirror_mode": {
        "name": "ipython",
        "version": 3
      },
      "file_extension": ".py",
      "mimetype": "text/x-python",
      "name": "python",
      "nbconvert_exporter": "python",
      "pygments_lexer": "ipython3",
      "version": "3.10.8"
    },
    "orig_nbformat": 4,
    "vscode": {
      "interpreter": {
        "hash": "24d5b46532c48506557f4e8b67082a5e19d7a2d0ebb825801dc5aecd586844f1"
      }
    },
    "colab": {
      "provenance": []
    },
    "accelerator": "GPU",
    "gpuClass": "standard"
  },
  "nbformat": 4,
  "nbformat_minor": 0
}